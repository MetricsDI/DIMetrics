{
 "cells": [
  {
   "cell_type": "code",
   "execution_count": 25,
   "metadata": {
    "ExecuteTime": {
     "end_time": "2021-09-28T19:41:03.682587Z",
     "start_time": "2021-09-28T19:41:03.676674Z"
    },
    "colab": {
     "base_uri": "https://localhost:8080/"
    },
    "id": "Y9HCFKZmSFdP",
    "outputId": "1013cbf6-1c9e-44ae-9997-fb69af9bce6f"
   },
   "outputs": [],
   "source": [
    "import time, torch, torch_struct\n",
    "import torch\n",
    "import torch_struct\n",
    "import matplotlib.pyplot as plt\n",
    "import tqdm as tqdm\n",
    "%timeit"
   ]
  },
  {
   "cell_type": "code",
   "execution_count": 41,
   "metadata": {
    "ExecuteTime": {
     "end_time": "2021-09-28T19:43:15.225959Z",
     "start_time": "2021-09-28T19:43:15.219505Z"
    }
   },
   "outputs": [],
   "source": [
    "def show(m, ex):\n",
    "    #plt.figure(figsize = (10,10))\n",
    "    plt.style.use('seaborn-dark-palette')\n",
    "    #plt.style.context('dark_background')\n",
    "    plt.tick_params(labelsize=10)\n",
    "    plt.yticks(torch.arange(len(letters[ex])), letters[ex])\n",
    "    plt.xticks(torch.arange(T), [str(frames[ex][x.item()]) for x in torch.arange(T)])\n",
    "    plt.imshow(m[ex].cpu().detach())"
   ]
  },
  {
   "cell_type": "markdown",
   "metadata": {},
   "source": [
    "## Alignment Algorithm\n",
    "Input strings are `ref_string_list` and `new_string_list` for batches of pars of ref-new.\n",
    "\n",
    "We use CTC loss to calculate global and local alignment between the two sequences. \n",
    "We use the fact that we have labels of entities for the ref_string to use for token tagging\n"
   ]
  },
  {
   "cell_type": "code",
   "execution_count": 42,
   "metadata": {
    "ExecuteTime": {
     "end_time": "2021-09-28T19:43:15.494626Z",
     "start_time": "2021-09-28T19:43:15.489633Z"
    },
    "id": "XzwJTmwvOSbI"
   },
   "outputs": [],
   "source": [
    "# ref_string = \"State ofNew Jersey, Schedule, NJK-1, 2019, Partnerâ€™sShare, of Income, (Form, NJ-1065), , For Calendar Year 2019, or Fiscal Year Beginning\"\n",
    "# new_string = \"STATE OF NEW JERSEY, NJK-1, (Form NJ-1065), PARTNER'S, SHARE, OF, INCOME, 2018, For Calendar Year 2018, or Fiscal Year Beginning\"\n",
    "ref_string = \"abcde\"\n",
    "new_string = \"abbdd\"\n",
    "t_start = time.time()\n",
    "%timeit\n"
   ]
  },
  {
   "cell_type": "code",
   "execution_count": 43,
   "metadata": {
    "ExecuteTime": {
     "end_time": "2021-09-28T19:43:15.621836Z",
     "start_time": "2021-09-28T19:43:15.613574Z"
    },
    "colab": {
     "base_uri": "https://localhost:8080/"
    },
    "id": "aHvTfrho3JhB",
    "outputId": "aae56181-ec71-4b5b-842b-4b4ea4086b5b"
   },
   "outputs": [
    {
     "data": {
      "text/plain": [
       "(['a', 'b', 'c', 'd', 'e'], ['a', 'b', 'b', 'd', 'd'])"
      ]
     },
     "execution_count": 43,
     "metadata": {},
     "output_type": "execute_result"
    }
   ],
   "source": [
    "ref_string_list_ = [(list(word)) for word in ref_string]\n",
    "ref_string_list = [\"\".join(s) for s in ref_string_list_]\n",
    "new_string_list_ = [(list(word)) for word in new_string]\n",
    "new_string_list = [\"\".join(s) for s in new_string_list_]\n",
    "ref_string_list, new_string_list"
   ]
  },
  {
   "cell_type": "markdown",
   "metadata": {},
   "source": [
    "## Character Vocab and Padding\n"
   ]
  },
  {
   "cell_type": "code",
   "execution_count": 44,
   "metadata": {
    "ExecuteTime": {
     "end_time": "2021-09-28T19:43:15.869823Z",
     "start_time": "2021-09-28T19:43:15.861584Z"
    },
    "colab": {
     "base_uri": "https://localhost:8080/"
    },
    "id": "nJI3T3kwSFdV",
    "outputId": "6a02ac1c-c560-48cd-b9a5-71746bb21411"
   },
   "outputs": [],
   "source": [
    "# Character Vocab, P is a padding token\n",
    "#vocab = [\"1\",\"2\",\"3\",\"4\",\"5\",\"6\",\"7\",\"8\",\"9\",\"a\", \"b\", \"c\", \"d\", \"e\", \"_\", \"P\",\"PAD\",\"W\",\"s\",\"h\",\"g\",\"o\",\"n\",\"t\",\"v\",\"r\",\"L\",\"i\",\"D\",\"C\"]\n",
    "vocab = list(set(new_string_list+ref_string_list))\n",
    "len(ref_string), len(new_string)\n",
    "v_dict = { a:i for i, a in enumerate(vocab)}\n",
    "L = len(vocab)\n",
    "\n",
    "# # Char sequence\n",
    "letters = [new_string_list,new_string_list]\n",
    "#new seq len\n",
    "t = len(letters[0])\n",
    "\n",
    "# Padding\n",
    "frames = [ref_string_list,ref_string_list]\n",
    "# Constants\n",
    "T, B = len(frames[0]), len(frames)\n",
    "D1, MATCH, D2 = 0, 1, 2\n",
    "\n",
    "batch_lengths = [(t, T), (t, T)]\n",
    "#batch_lengths = [(t, T)]\n",
    "T,B\n",
    "\n",
    "b, i = len(frames[0]),len(frames[1])\n",
    "\n"
   ]
  },
  {
   "cell_type": "markdown",
   "metadata": {},
   "source": [
    "## Gold alignment"
   ]
  },
  {
   "cell_type": "code",
   "execution_count": 45,
   "metadata": {
    "ExecuteTime": {
     "end_time": "2021-09-28T19:43:16.144146Z",
     "start_time": "2021-09-28T19:43:16.122462Z"
    },
    "id": "iO7v1-1PSFdX"
   },
   "outputs": [
    {
     "data": {
      "text/plain": [
       "tensor([[[2.7183, 1.0000, 1.0000, 1.0000, 1.0000],\n",
       "         [1.0000, 2.7183, 1.0000, 1.0000, 1.0000],\n",
       "         [1.0000, 2.7183, 1.0000, 1.0000, 1.0000],\n",
       "         [1.0000, 1.0000, 1.0000, 2.7183, 1.0000],\n",
       "         [1.0000, 1.0000, 1.0000, 2.7183, 1.0000]],\n",
       "\n",
       "        [[2.7183, 1.0000, 1.0000, 1.0000, 1.0000],\n",
       "         [1.0000, 2.7183, 1.0000, 1.0000, 1.0000],\n",
       "         [1.0000, 2.7183, 1.0000, 1.0000, 1.0000],\n",
       "         [1.0000, 1.0000, 1.0000, 2.7183, 1.0000],\n",
       "         [1.0000, 1.0000, 1.0000, 2.7183, 1.0000]]])"
      ]
     },
     "execution_count": 45,
     "metadata": {},
     "output_type": "execute_result"
    }
   ],
   "source": [
    "\n",
    "gold = torch.zeros(B, t).long()\n",
    "for b in range(B):\n",
    "    for i, l in enumerate(letters[0]):\n",
    "        gold[b, i] = v_dict[l]\n",
    "gold = gold[:, None, :].expand(B, T, t)\n",
    "\n",
    "# Inputs (boost true frames a bit)\n",
    "logits = torch.zeros(B, T, L)\n",
    "for b in range(B):\n",
    "    for i in range(T):\n",
    "        \n",
    "        logits[b, i, v_dict[frames[b][i]]] += 1\n",
    "        \n",
    "\n",
    "# Construct the alignment problem from CTC\n",
    "\n",
    "# Log-Potentials\n",
    "log_potentials = torch.zeros(B, T, t, 3).fill_(-1e5)\n",
    "\n",
    "# Match gold to logits. \n",
    "match = torch.gather(logits, 2, gold)\n",
    "\n",
    "# CTC Rules:\n",
    "for b, (lb, la)  in zip(range(B), batch_lengths):\n",
    "    # la and lb are the sizes of the two (without padding)\n",
    "\n",
    "    # Never allowed to fully skip regular characters (little t)\n",
    "    log_potentials[b, :la, :lb:2,  D2] = -1e5\n",
    "\n",
    "    # Free to skip _ characters (little t)\n",
    "    log_potentials[b, :la, 1:lb:2, D2] = 0\n",
    "\n",
    "    # First match with character is the logit. \n",
    "    log_potentials[b, :la, :lb, MATCH] = match[b, :la, :lb]\n",
    "\n",
    "    # Additional match with character is the logit.\n",
    "    log_potentials[b, :la, :lb, D1] = match[b, :la, :lb]\n",
    "\n",
    "    # Match padding in an L shape\n",
    "    log_potentials[b, la:, lb-1, D1] = 0\n",
    "    log_potentials[b, -1, lb:, D2] = 0\n",
    "\n",
    "log_potentials = log_potentials.transpose(1, 2)\n",
    "\n",
    "#log_potentials = log_potentials.transpose(1, 2).cuda()\n",
    "matches = match.transpose(1,2).exp()\n",
    "matches"
   ]
  },
  {
   "cell_type": "markdown",
   "metadata": {},
   "source": [
    "# Plots of semirings"
   ]
  },
  {
   "cell_type": "markdown",
   "metadata": {},
   "source": [
    "## input scores\n"
   ]
  },
  {
   "cell_type": "code",
   "execution_count": 46,
   "metadata": {
    "ExecuteTime": {
     "end_time": "2021-09-28T19:43:16.669050Z",
     "start_time": "2021-09-28T19:43:16.529151Z"
    },
    "colab": {
     "base_uri": "https://localhost:8080/",
     "height": 1000
    },
    "id": "c6BIB4TDSFdY",
    "outputId": "cfe02a8b-43b1-4e8f-e55a-d4a4c86ea63e"
   },
   "outputs": [
    {
     "data": {
      "image/png": "[encoded data removed]",
      "text/plain": [
       "<Figure size 432x288 with 1 Axes>"
      ]
     },
     "metadata": {
      "needs_background": "light"
     },
     "output_type": "display_data"
    }
   ],
   "source": [
    "show(matches, 1)\n",
    "#matches[0], matches[1]"
   ]
  },
  {
   "cell_type": "markdown",
   "metadata": {},
   "source": [
    "## Calculate distribution\n",
    "\n",
    "> Pick local (Smith-Waterman, or Global,Needleman-Wunsch)"
   ]
  },
  {
   "cell_type": "code",
   "execution_count": 47,
   "metadata": {
    "ExecuteTime": {
     "end_time": "2021-09-28T19:43:17.448982Z",
     "start_time": "2021-09-28T19:43:16.816301Z"
    },
    "colab": {
     "base_uri": "https://localhost:8080/"
    },
    "id": "JM_UE3l_SFdY",
    "outputId": "92018040-4812-4e25-f4e2-6e52d2ab7c60"
   },
   "outputs": [],
   "source": [
    "\n",
    "dist = torch_struct.AlignmentCRF(log_potentials,local=False)\n"
   ]
  },
  {
   "cell_type": "markdown",
   "metadata": {},
   "source": [
    "## Marginals\n",
    ">(see uncertainty from randomness)\n"
   ]
  },
  {
   "cell_type": "code",
   "execution_count": 48,
   "metadata": {
    "ExecuteTime": {
     "end_time": "2021-09-28T19:43:24.201199Z",
     "start_time": "2021-09-28T19:43:17.453682Z"
    },
    "colab": {
     "base_uri": "https://localhost:8080/",
     "height": 1000
    },
    "id": "aptUgYnW-bAX",
    "outputId": "9679980c-f855-44f5-ffda-0fbbce3b96cc"
   },
   "outputs": [
    {
     "name": "stderr",
     "output_type": "stream",
     "text": [
      "Clipping input data to the valid range for imshow with RGB data ([0..1] for floats or [0..255] for integers).\n"
     ]
    },
    {
     "data": {
      "text/plain": [
       "torch.Size([2, 5, 5, 3])"
      ]
     },
     "execution_count": 48,
     "metadata": {},
     "output_type": "execute_result"
    },
    {
     "data": {
      "image/png": "[encoded data removed]",
      "text/plain": [
       "<Figure size 432x288 with 1 Axes>"
      ]
     },
     "metadata": {
      "needs_background": "light"
     },
     "output_type": "display_data"
    }
   ],
   "source": [
    "show(dist.marginals, 1)\n",
    "#marginals\n",
    "dist.marginals.shape"
   ]
  },
  {
   "cell_type": "markdown",
   "metadata": {},
   "source": [
    "## Count"
   ]
  },
  {
   "cell_type": "code",
   "execution_count": 49,
   "metadata": {
    "ExecuteTime": {
     "end_time": "2021-09-28T19:43:25.040177Z",
     "start_time": "2021-09-28T19:43:24.208689Z"
    },
    "id": "87byOSlm9ZHz"
   },
   "outputs": [],
   "source": [
    "count_ = dist.count"
   ]
  },
  {
   "cell_type": "markdown",
   "metadata": {},
   "source": [
    "## Partition"
   ]
  },
  {
   "cell_type": "code",
   "execution_count": 50,
   "metadata": {
    "ExecuteTime": {
     "end_time": "2021-09-28T19:43:26.963449Z",
     "start_time": "2021-09-28T19:43:25.046625Z"
    },
    "id": "iX2R860f9F3V"
   },
   "outputs": [],
   "source": [
    "partition_ = dist.partition"
   ]
  },
  {
   "cell_type": "markdown",
   "metadata": {
    "ExecuteTime": {
     "end_time": "2021-09-28T19:30:59.887925Z",
     "start_time": "2021-09-28T19:30:59.884758Z"
    }
   },
   "source": [
    "## Argmax"
   ]
  },
  {
   "cell_type": "code",
   "execution_count": 51,
   "metadata": {
    "ExecuteTime": {
     "end_time": "2021-09-28T19:43:29.516734Z",
     "start_time": "2021-09-28T19:43:26.966451Z"
    },
    "id": "mTUwElSKSFdZ"
   },
   "outputs": [
    {
     "data": {
      "text/plain": [
       "(torch.Size([2, 5, 5, 3]),\n",
       " tensor([[0, 0, 0, 1],\n",
       "         [0, 1, 0, 2],\n",
       "         [0, 2, 1, 1],\n",
       "         [0, 2, 2, 0],\n",
       "         [0, 3, 2, 2],\n",
       "         [0, 4, 3, 1],\n",
       "         [0, 4, 4, 0],\n",
       "         [1, 0, 0, 1],\n",
       "         [1, 1, 0, 2],\n",
       "         [1, 2, 1, 1],\n",
       "         [1, 2, 2, 0],\n",
       "         [1, 3, 2, 2],\n",
       "         [1, 4, 3, 1],\n",
       "         [1, 4, 4, 0]]))"
      ]
     },
     "execution_count": 51,
     "metadata": {},
     "output_type": "execute_result"
    },
    {
     "data": {
      "image/png": "[encoded data removed]",
      "text/plain": [
       "<Figure size 432x288 with 1 Axes>"
      ]
     },
     "metadata": {
      "needs_background": "light"
     },
     "output_type": "display_data"
    }
   ],
   "source": [
    "argmax_ = dist.argmax\n",
    "show(argmax_,1)\n",
    "argmax_.shape, argmax_.nonzero()"
   ]
  },
  {
   "cell_type": "code",
   "execution_count": 52,
   "metadata": {
    "ExecuteTime": {
     "end_time": "2021-09-28T19:43:30.357270Z",
     "start_time": "2021-09-28T19:43:29.520872Z"
    },
    "id": "2Khn5yPiSFdZ"
   },
   "outputs": [
    {
     "data": {
      "text/plain": [
       "tensor([3., 3.], grad_fn=<SqueezeBackward1>)"
      ]
     },
     "execution_count": 52,
     "metadata": {},
     "output_type": "execute_result"
    }
   ],
   "source": [
    "max_ = dist.max\n",
    "#show(max_,1)\n",
    "max_"
   ]
  },
  {
   "cell_type": "code",
   "execution_count": 53,
   "metadata": {
    "ExecuteTime": {
     "end_time": "2021-09-28T19:43:30.370749Z",
     "start_time": "2021-09-28T19:43:30.360271Z"
    },
    "id": "d0_GB1oIC7-q"
   },
   "outputs": [
    {
     "data": {
      "text/plain": [
       "tensor([[[0., 1., 0.],\n",
       "         [0., 0., 0.],\n",
       "         [0., 0., 0.],\n",
       "         [0., 0., 0.],\n",
       "         [0., 0., 0.]],\n",
       "\n",
       "        [[0., 0., 1.],\n",
       "         [0., 0., 0.],\n",
       "         [0., 0., 0.],\n",
       "         [0., 0., 0.],\n",
       "         [0., 0., 0.]],\n",
       "\n",
       "        [[0., 0., 0.],\n",
       "         [0., 1., 0.],\n",
       "         [1., 0., 0.],\n",
       "         [0., 0., 0.],\n",
       "         [0., 0., 0.]],\n",
       "\n",
       "        [[0., 0., 0.],\n",
       "         [0., 0., 0.],\n",
       "         [0., 0., 1.],\n",
       "         [0., 0., 0.],\n",
       "         [0., 0., 0.]],\n",
       "\n",
       "        [[0., 0., 0.],\n",
       "         [0., 0., 0.],\n",
       "         [0., 0., 0.],\n",
       "         [0., 1., 0.],\n",
       "         [1., 0., 0.]]])"
      ]
     },
     "execution_count": 53,
     "metadata": {},
     "output_type": "execute_result"
    }
   ],
   "source": [
    "argmax_[0]"
   ]
  },
  {
   "cell_type": "code",
   "execution_count": 54,
   "metadata": {
    "ExecuteTime": {
     "end_time": "2021-09-28T19:43:30.385576Z",
     "start_time": "2021-09-28T19:43:30.373877Z"
    }
   },
   "outputs": [
    {
     "data": {
      "text/plain": [
       "tensor([[[0., 1., 0.],\n",
       "         [0., 0., 0.],\n",
       "         [0., 0., 0.],\n",
       "         [0., 0., 0.],\n",
       "         [0., 0., 0.]],\n",
       "\n",
       "        [[0., 0., 1.],\n",
       "         [0., 0., 0.],\n",
       "         [0., 0., 0.],\n",
       "         [0., 0., 0.],\n",
       "         [0., 0., 0.]],\n",
       "\n",
       "        [[0., 0., 0.],\n",
       "         [0., 1., 0.],\n",
       "         [1., 0., 0.],\n",
       "         [0., 0., 0.],\n",
       "         [0., 0., 0.]],\n",
       "\n",
       "        [[0., 0., 0.],\n",
       "         [0., 0., 0.],\n",
       "         [0., 0., 1.],\n",
       "         [0., 0., 0.],\n",
       "         [0., 0., 0.]],\n",
       "\n",
       "        [[0., 0., 0.],\n",
       "         [0., 0., 0.],\n",
       "         [0., 0., 0.],\n",
       "         [0., 1., 0.],\n",
       "         [1., 0., 0.]]])"
      ]
     },
     "execution_count": 54,
     "metadata": {},
     "output_type": "execute_result"
    }
   ],
   "source": [
    "argmax_[1]"
   ]
  },
  {
   "cell_type": "code",
   "execution_count": 55,
   "metadata": {
    "ExecuteTime": {
     "end_time": "2021-09-28T19:43:30.407518Z",
     "start_time": "2021-09-28T19:43:30.392651Z"
    }
   },
   "outputs": [
    {
     "data": {
      "text/plain": [
       "tensor([[[True, True, True],\n",
       "         [True, True, True],\n",
       "         [True, True, True],\n",
       "         [True, True, True],\n",
       "         [True, True, True]],\n",
       "\n",
       "        [[True, True, True],\n",
       "         [True, True, True],\n",
       "         [True, True, True],\n",
       "         [True, True, True],\n",
       "         [True, True, True]],\n",
       "\n",
       "        [[True, True, True],\n",
       "         [True, True, True],\n",
       "         [True, True, True],\n",
       "         [True, True, True],\n",
       "         [True, True, True]],\n",
       "\n",
       "        [[True, True, True],\n",
       "         [True, True, True],\n",
       "         [True, True, True],\n",
       "         [True, True, True],\n",
       "         [True, True, True]],\n",
       "\n",
       "        [[True, True, True],\n",
       "         [True, True, True],\n",
       "         [True, True, True],\n",
       "         [True, True, True],\n",
       "         [True, True, True]]])"
      ]
     },
     "execution_count": 55,
     "metadata": {},
     "output_type": "execute_result"
    }
   ],
   "source": [
    "argmax_[0] == argmax_[1]"
   ]
  },
  {
   "cell_type": "code",
   "execution_count": null,
   "metadata": {},
   "outputs": [],
   "source": []
  },
  {
   "cell_type": "code",
   "execution_count": null,
   "metadata": {},
   "outputs": [],
   "source": []
  },
  {
   "cell_type": "code",
   "execution_count": null,
   "metadata": {},
   "outputs": [],
   "source": []
  },
  {
   "cell_type": "code",
   "execution_count": null,
   "metadata": {},
   "outputs": [],
   "source": []
  },
  {
   "cell_type": "code",
   "execution_count": null,
   "metadata": {},
   "outputs": [],
   "source": []
  }
 ],
 "metadata": {
  "accelerator": "GPU",
  "colab": {
   "collapsed_sections": [],
   "name": "Alignment Algorithm.ipynb",
   "provenance": []
  },
  "kernelspec": {
   "display_name": "Python 3 (ipykernel)",
   "language": "python",
   "name": "python3"
  },
  "language_info": {
   "codemirror_mode": {
    "name": "ipython",
    "version": 3
   },
   "file_extension": ".py",
   "mimetype": "text/x-python",
   "name": "python",
   "nbconvert_exporter": "python",
   "pygments_lexer": "ipython3",
   "version": "3.7.5"
  }
 },
 "nbformat": 4,
 "nbformat_minor": 4
}
