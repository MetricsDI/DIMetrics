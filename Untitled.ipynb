{
 "cells": [
  {
   "cell_type": "code",
   "execution_count": 5,
   "id": "8c99dbb4",
   "metadata": {},
   "outputs": [
    {
     "name": "stdout",
     "output_type": "stream",
     "text": [
      "Requirement already satisfied: pip in f:\\src_github\\dimetrics\\venv\\lib\\site-packages (22.1)\n"
     ]
    }
   ],
   "source": [
    "!pip install --upgrade pip"
   ]
  },
  {
   "cell_type": "code",
   "execution_count": 6,
   "id": "f387dd49",
   "metadata": {},
   "outputs": [
    {
     "name": "stdout",
     "output_type": "stream",
     "text": [
      "Requirement already satisfied: cython in f:\\src_github\\dimetrics\\venv\\lib\\site-packages (0.29.28)\n"
     ]
    }
   ],
   "source": [
    "!pip install cython"
   ]
  },
  {
   "cell_type": "code",
   "execution_count": 12,
   "id": "3c48f601",
   "metadata": {},
   "outputs": [],
   "source": [
    "%load_ext Cython"
   ]
  },
  {
   "cell_type": "code",
   "execution_count": 14,
   "id": "eefe003f",
   "metadata": {},
   "outputs": [],
   "source": [
    "%%cython\n",
    "\n",
    "def levenshtein_distance(y_true: str, y_pred: str, normalize: bool = False):\n",
    "    \"\"\"\n",
    "    Computes the Levenshtein Edit Distance between two strings.\n",
    "    :param str y_true: ground_truth/inference string\n",
    "    :param str y_pred: predicted/reference string\n",
    "    :param bool normalize: Boolean for normalizing the distance by length of longer string\n",
    "    :returns:\n",
    "        distance (float): The computed Levenshtein Edit Distance between y_true and y_pred\n",
    "                        (normalized distance between 0.0 and 1.0 will be returned if normalize=True)\n",
    "    \"\"\"\n",
    "#     cdef int i1, int i2\n",
    "    s1 = y_true\n",
    "    s2 = y_pred\n",
    "    if len(s1) > len(s2):\n",
    "        s1, s2 = s2, s1\n",
    "\n",
    "    distances = range(len(s2) + 1)\n",
    "    for i2, c2 in enumerate(s2):\n",
    "        distances_ = [i2 + 1]\n",
    "        for i1, c1 in enumerate(s1):\n",
    "            if c1 == c2:\n",
    "                distances_.append(distances[i1])\n",
    "            else:\n",
    "                distances_.append(1 + min((distances[i1], distances[i1 + 1], distances_[-1])))\n",
    "        distances = distances_\n",
    "    if normalize:\n",
    "        eps = 1e-10\n",
    "        return 1 - distances[-1] / (len(s2) + eps)\n",
    "    return distances[-1]\n",
    "\n"
   ]
  },
  {
   "cell_type": "code",
   "execution_count": 15,
   "id": "5c9b0f80",
   "metadata": {},
   "outputs": [],
   "source": [
    "import timeit"
   ]
  },
  {
   "cell_type": "code",
   "execution_count": 18,
   "id": "77adc030",
   "metadata": {},
   "outputs": [],
   "source": [
    "\n",
    "def levenshtein_distance2(y_true: str, y_pred: str, normalize: bool = False):\n",
    "    \"\"\"\n",
    "    Computes the Levenshtein Edit Distance between two strings.\n",
    "    :param str y_true: ground_truth/inference string\n",
    "    :param str y_pred: predicted/reference string\n",
    "    :param bool normalize: Boolean for normalizing the distance by length of longer string\n",
    "    :returns:\n",
    "        distance (float): The computed Levenshtein Edit Distance between y_true and y_pred\n",
    "                        (normalized distance between 0.0 and 1.0 will be returned if normalize=True)\n",
    "    \"\"\"\n",
    "#     cdef int i1, int i2\n",
    "    s1 = y_true\n",
    "    s2 = y_pred\n",
    "    if len(s1) > len(s2):\n",
    "        s1, s2 = s2, s1\n",
    "\n",
    "    distances = range(len(s2) + 1)\n",
    "    for i2, c2 in enumerate(s2):\n",
    "        distances_ = [i2 + 1]\n",
    "        for i1, c1 in enumerate(s1):\n",
    "            if c1 == c2:\n",
    "                distances_.append(distances[i1])\n",
    "            else:\n",
    "                distances_.append(1 + min((distances[i1], distances[i1 + 1], distances_[-1])))\n",
    "        distances = distances_\n",
    "    if normalize:\n",
    "        eps = 1e-10\n",
    "        return 1 - distances[-1] / (len(s2) + eps)\n",
    "    return distances[-1]"
   ]
  },
  {
   "cell_type": "code",
   "execution_count": 23,
   "id": "3f4cd2cc",
   "metadata": {},
   "outputs": [
    {
     "name": "stderr",
     "output_type": "stream",
     "text": [
      "\n",
      "Error compiling Cython file:\n",
      "------------------------------------------------------------\n",
      "...\n",
      "    :param bool normalize: Boolean for normalizing the distance by length of longer string\n",
      "    :returns:\n",
      "        distance (float): The computed Levenshtein Edit Distance between y_true and y_pred\n",
      "                        (normalized distance between 0.0 and 1.0 will be returned if normalize=True)\n",
      "    \"\"\"\n",
      "    %cython cdef int i1, int i2\n",
      "   ^\n",
      "------------------------------------------------------------\n",
      "\n",
      "C:\\Users\\sophros\\.ipython\\cython\\_cython_magic_32e433b9a5ec26d080d3e23d0eb2a168.pyx:12:4: Expected an identifier or literal\n"
     ]
    }
   ],
   "source": [
    "%%cython\n",
    "\n",
    "def levenshtein_distance3(y_true: str, y_pred: str, normalize: bool = False):\n",
    "    \"\"\"\n",
    "    Computes the Levenshtein Edit Distance between two strings.\n",
    "    :param str y_true: ground_truth/inference string\n",
    "    :param str y_pred: predicted/reference string\n",
    "    :param bool normalize: Boolean for normalizing the distance by length of longer string\n",
    "    :returns:\n",
    "        distance (float): The computed Levenshtein Edit Distance between y_true and y_pred\n",
    "                        (normalized distance between 0.0 and 1.0 will be returned if normalize=True)\n",
    "    \"\"\"\n",
    "    %cython cdef int i1, int i2\n",
    "    s1 = y_true\n",
    "    s2 = y_pred\n",
    "    if len(s1) > len(s2):\n",
    "        s1, s2 = s2, s1\n",
    "\n",
    "    distances = range(len(s2) + 1)\n",
    "    for i2, c2 in enumerate(s2):\n",
    "        distances_ = [i2 + 1]\n",
    "        for i1, c1 in enumerate(s1):\n",
    "            if c1 == c2:\n",
    "                distances_.append(distances[i1])\n",
    "            else:\n",
    "                distances_.append(1 + min((distances[i1], distances[i1 + 1], distances_[-1])))\n",
    "        distances = distances_\n",
    "    if normalize:\n",
    "        eps = 1e-10\n",
    "        return 1 - distances[-1] / (len(s2) + eps)\n",
    "    return distances[-1]\n",
    "\n"
   ]
  },
  {
   "cell_type": "code",
   "execution_count": 21,
   "id": "e9c090ad",
   "metadata": {},
   "outputs": [
    {
     "name": "stdout",
     "output_type": "stream",
     "text": [
      "5.64 ms ± 377 µs per loop (mean ± std. dev. of 7 runs, 100 loops each)\n"
     ]
    }
   ],
   "source": [
    "%%timeit\n",
    "levenshtein_distance(\"abcdefghijklmnoprstuvw\"*10, \"abcdefghijklnopstuw\"*10)"
   ]
  },
  {
   "cell_type": "code",
   "execution_count": 20,
   "id": "ca73683d",
   "metadata": {},
   "outputs": [
    {
     "name": "stdout",
     "output_type": "stream",
     "text": [
      "18.4 ms ± 867 µs per loop (mean ± std. dev. of 7 runs, 100 loops each)\n"
     ]
    }
   ],
   "source": [
    "%%timeit\n",
    "levenshtein_distance2(\"abcdefghijklmnoprstuvw\"*10, \"abcdefghijklnopstuw\"*10)"
   ]
  }
 ],
 "metadata": {
  "kernelspec": {
   "display_name": "Python 3 (ipykernel)",
   "language": "python",
   "name": "python3"
  },
  "language_info": {
   "codemirror_mode": {
    "name": "ipython",
    "version": 3
   },
   "file_extension": ".py",
   "mimetype": "text/x-python",
   "name": "python",
   "nbconvert_exporter": "python",
   "pygments_lexer": "ipython3",
   "version": "3.9.1"
  }
 },
 "nbformat": 4,
 "nbformat_minor": 5
}
