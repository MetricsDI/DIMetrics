{
 "cells": [
  {
   "cell_type": "code",
   "execution_count": 36,
   "metadata": {
    "ExecuteTime": {
     "end_time": "2021-09-29T12:02:45.906187Z",
     "start_time": "2021-09-29T12:02:45.899567Z"
    }
   },
   "outputs": [],
   "source": [
    "from dime.textual import levenshtein_distance, lc_subsequence_torch, str_exact_match\n",
    "from dime.token_classification import proc_token_classification\n",
    "from dime.geometric import iou\n",
    "from dime.hed import hed\n",
    "from dime.core import (get_iou_metrics, get_precision, get_recall, get_f1, \\\n",
    "                                    get_iou_label, get_weighted_mean, get_iou_metrics_df, \\\n",
    "                                        get_text_metrics,get_hed_document,get_hed_label)\n",
    "import numpy as np\n",
    "import matplotlib.pyplot as plt\n",
    "%timeit\n",
    "def show(x): \n",
    "    plt.imshow(x*x)\n",
    "    plt.savefig('lcstable.png')\n",
    "    "
   ]
  },
  {
   "cell_type": "code",
   "execution_count": null,
   "metadata": {},
   "outputs": [],
   "source": []
  },
  {
   "cell_type": "code",
   "execution_count": 37,
   "metadata": {
    "ExecuteTime": {
     "end_time": "2021-09-29T12:02:47.687955Z",
     "start_time": "2021-09-29T12:02:47.680198Z"
    }
   },
   "outputs": [
    {
     "data": {
      "text/plain": [
       "(2.0, 1.0, 1.0)"
      ]
     },
     "execution_count": 37,
     "metadata": {},
     "output_type": "execute_result"
    }
   ],
   "source": [
    "# ref = \"he watched the boy with the binoculars\"\n",
    "# pred = \"she watched the boy\"\n",
    "ref = \"abc\"\n",
    "pred = \"abb\"\n",
    "(tp, fp, fn),dp_table = lc_subsequence_torch(pred,ref,ret_dp_table=True)\n",
    "(tp, fp, fn)"
   ]
  },
  {
   "cell_type": "code",
   "execution_count": 38,
   "metadata": {
    "ExecuteTime": {
     "end_time": "2021-09-29T12:02:49.867824Z",
     "start_time": "2021-09-29T12:02:49.688114Z"
    }
   },
   "outputs": [
    {
     "data": {
      "image/png": "[encoded data removed]",
      "text/plain": [
       "<Figure size 432x288 with 1 Axes>"
      ]
     },
     "metadata": {
      "needs_background": "light"
     },
     "output_type": "display_data"
    }
   ],
   "source": [
    "show(dp_table)"
   ]
  },
  {
   "cell_type": "code",
   "execution_count": 39,
   "metadata": {
    "ExecuteTime": {
     "end_time": "2021-09-29T12:02:50.422391Z",
     "start_time": "2021-09-29T12:02:50.226923Z"
    }
   },
   "outputs": [
    {
     "data": {
      "image/png": "[encoded data removed]",
      "text/plain": [
       "<Figure size 684x396 with 1 Axes>"
      ]
     },
     "metadata": {
      "needs_background": "light"
     },
     "output_type": "display_data"
    }
   ],
   "source": [
    "preds = list(pred)\n",
    "refs = list(ref)\n",
    "fig, ax = plt.subplots()\n",
    "fig.set_size_inches(9.5, 5.5)\n",
    "im = ax.imshow(dp_table,cmap='Wistia')\n",
    "\n",
    "# We want to show all ticks...\n",
    "ax.set_xticks(np.arange(len(refs)))\n",
    "ax.set_yticks(np.arange(len(preds)))\n",
    "# ... and label them with the respective list entries\n",
    "ax.set_xticklabels(refs)\n",
    "ax.set_yticklabels(preds)\n",
    "\n",
    "# Rotate the tick labels and set their alignment.\n",
    "plt.setp(ax.get_xticklabels(), rotation=45, ha=\"center\",\n",
    "         rotation_mode=\"anchor\")\n",
    "\n",
    "# Loop over data dimensions and create text annotations.\n",
    "for i in range(len(preds)):\n",
    "    for j in range(len(refs)):\n",
    "        text = ax.text(j, i, \"\\n\"*2+str(int(dp_table[i, j])),\n",
    "                       ha=\"center\", va=\"center\", color=\"b\")\n",
    "\n",
    "ax.set_title(f'Completed LCS Table \\n Predicted:  {pred} \\n Ground Truth:  {ref}')\n",
    "\n",
    "fig.tight_layout()\n",
    "plt.savefig('img/lcstable.png')\n",
    "plt.show()"
   ]
  },
  {
   "cell_type": "code",
   "execution_count": 40,
   "metadata": {
    "ExecuteTime": {
     "end_time": "2021-09-29T12:02:51.070994Z",
     "start_time": "2021-09-29T12:02:51.053951Z"
    }
   },
   "outputs": [
    {
     "data": {
      "text/plain": [
       "<Figure size 432x288 with 0 Axes>"
      ]
     },
     "metadata": {},
     "output_type": "display_data"
    }
   ],
   "source": [
    "plt.savefig('lcstable.png')"
   ]
  },
  {
   "cell_type": "code",
   "execution_count": 41,
   "metadata": {
    "ExecuteTime": {
     "end_time": "2021-09-29T12:02:51.629630Z",
     "start_time": "2021-09-29T12:02:51.624836Z"
    }
   },
   "outputs": [],
   "source": [
    "import numpy as np\n",
    "mylist = np.array([1,2,3,4,5])"
   ]
  },
  {
   "cell_type": "code",
   "execution_count": 42,
   "metadata": {
    "ExecuteTime": {
     "end_time": "2021-09-29T12:02:52.143316Z",
     "start_time": "2021-09-29T12:02:52.139238Z"
    }
   },
   "outputs": [
    {
     "data": {
      "text/plain": [
       "5"
      ]
     },
     "execution_count": 42,
     "metadata": {},
     "output_type": "execute_result"
    }
   ],
   "source": [
    "right = len(mylist)-1\n",
    "mylist[right]"
   ]
  },
  {
   "cell_type": "code",
   "execution_count": 43,
   "metadata": {
    "ExecuteTime": {
     "end_time": "2021-09-29T12:02:52.919365Z",
     "start_time": "2021-09-29T12:02:52.916037Z"
    }
   },
   "outputs": [],
   "source": [
    "def longestCommonSubsequence(str1, str2):\n",
    "    lcs = [[[] for x in range(len(str1)+1)] for y in range(len(str2)+1)] #memo\n",
    "    "
   ]
  },
  {
   "cell_type": "code",
   "execution_count": null,
   "metadata": {},
   "outputs": [],
   "source": []
  }
 ],
 "metadata": {
  "kernelspec": {
   "display_name": "Python 3 (ipykernel)",
   "language": "python",
   "name": "python3"
  },
  "language_info": {
   "codemirror_mode": {
    "name": "ipython",
    "version": 3
   },
   "file_extension": ".py",
   "mimetype": "text/x-python",
   "name": "python",
   "nbconvert_exporter": "python",
   "pygments_lexer": "ipython3",
   "version": "3.7.5"
  }
 },
 "nbformat": 4,
 "nbformat_minor": 4
}
